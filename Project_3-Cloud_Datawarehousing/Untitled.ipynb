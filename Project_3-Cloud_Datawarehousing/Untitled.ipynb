{
 "cells": [
  {
   "cell_type": "code",
   "execution_count": 1,
   "metadata": {},
   "outputs": [
    {
     "name": "stdout",
     "output_type": "stream",
     "text": [
      "[CLUSTER]\n",
      "\n",
      "HOST=redshift-cluster-1.cvlyfsynx5gj.us-west-2.redshift.amazonaws.com\n",
      "\n",
      "DB_NAME=dev\n",
      "\n",
      "DB_USER=awsuser\n",
      "\n",
      "DB_PASSWORD=JFk.0123\n",
      "\n",
      "DB_PORT=5439\n",
      "\n",
      "\n",
      "\n",
      "[IAM_ROLE]\n",
      "\n",
      "ARN=arn:aws:iam::424404036735:role/myRedshiftRole\n",
      "\n",
      "\n",
      "\n",
      "[S3]\n",
      "\n",
      "LOG_DATA='s3://udacity-dend/log_data'\n",
      "\n",
      "LOG_JSONPATH='s3://udacity-dend/log_json_path.json'\n",
      "\n",
      "SONG_DATA='s3://udacity-dend/song_data'\n"
     ]
    }
   ],
   "source": [
    "with open('dwh.cfg') as a:\n",
    "    for l in a:\n",
    "        print(l)"
   ]
  },
  {
   "cell_type": "code",
   "execution_count": 2,
   "metadata": {},
   "outputs": [],
   "source": [
    "import configparser\n",
    "import psycopg2\n",
    "from sql_queries import create_table_queries, drop_table_queries"
   ]
  },
  {
   "cell_type": "code",
   "execution_count": 3,
   "metadata": {},
   "outputs": [
    {
     "data": {
      "text/plain": [
       "['dwh.cfg']"
      ]
     },
     "execution_count": 3,
     "metadata": {},
     "output_type": "execute_result"
    }
   ],
   "source": [
    "config = configparser.ConfigParser()\n",
    "config.read('dwh.cfg')"
   ]
  },
  {
   "cell_type": "code",
   "execution_count": 15,
   "metadata": {},
   "outputs": [
    {
     "name": "stdout",
     "output_type": "stream",
     "text": [
      "host=jdbc:redshift://redshift-cluster-1.cvlyfsynx5gj.us-west-2.redshift.amazonaws.com:5439 dbname=dev user=awsuser password=JFk.0123 port=5439\n"
     ]
    }
   ],
   "source": [
    "print(\"host={} dbname={} user={} password={} port={}\".format(*config['CLUSTER'].values()))"
   ]
  },
  {
   "cell_type": "code",
   "execution_count": 4,
   "metadata": {},
   "outputs": [],
   "source": [
    "def drop_tables(cur, conn):\n",
    "    for query in drop_table_queries:\n",
    "        cur.execute(query)\n",
    "        conn.commit()\n",
    "\n",
    "\n",
    "def create_tables(cur, conn):\n",
    "    for query in create_table_queries:\n",
    "        cur.execute(query)\n",
    "        conn.commit()\n",
    "\n",
    "\n",
    "def main():\n",
    "    config = configparser.ConfigParser()\n",
    "    config.read('dwh.cfg')\n",
    "\n",
    "    conn = psycopg2.connect(\"host={} dbname={} user={} password={} port={}\".format(*config['CLUSTER'].values()))\n",
    "    cur = conn.cursor()\n",
    "\n",
    "    drop_tables(cur, conn)\n",
    "    create_tables(cur, conn)\n",
    "\n",
    "    conn.close()\n",
    "\n",
    "\n",
    "if __name__ == \"__main__\":\n",
    "    main()"
   ]
  },
  {
   "cell_type": "code",
   "execution_count": 3,
   "metadata": {},
   "outputs": [
    {
     "name": "stdout",
     "output_type": "stream",
     "text": [
      "CREATE TABLE IF NOT EXISTS staging_events(numsongs INT ,artist_id VARCHAR(18),artist_latitude NUMERIC(8,5),artist_longitude NUMERIC(8,5),artist_location VARCHAR(30),artist_name VARCHAR(100),song_id VARCHAR(18),title VARCHAR(200),duration NUMERIC(8,5),year INT);\n",
      "\n",
      "CREATE TABLE IF NOT EXISTS staging_songs(artist VARCHAR(100),auth VARCHAR(30),first_name VARCHAR(20),gender CHAR(1),item_in_session INT,last_name VARCHAR(20),length NUMERIC(8,5),level CHAR(4),location VARCHAR(30),method VARCHAR(10),page VARCHAR(30),registration BIGINT,session_id INT,song VARCHAR(200),status INT,ts BIGINT,user_agent VARCHAR(200),user_id INT);\n",
      "\n",
      "CREATE TABLE IF NOT EXISTS songplays(songplay_id SERIAL PRIMARY KEY,start_time TIMESTAMP NOT NULL,user_id INT NOT NULL,song_id VARCHAR(18),artist_id VARCHAR(18),session_id INT,location VARCHAR(65),user_agent VARCHAR(250));\n",
      "\n",
      "CREATE TABLE IF NOT EXISTS users(user_id INT PRIMARY KEY,first_name VARCHAR(20),last_name VARCHAR(20),gender CHAR(1),level char(4) NOT NULL);\n",
      "\n",
      "CREATE TABLE IF NOT EXISTS songs(song_id VARCHAR(18) PRIMARY KEY,title VARCHAR(200),artist_id VARCHAR(18),year INT,duration NUMERIC(8,5),FOREIGN KEY (artist_id) REFERENCES artists(artist_id));\n",
      "\n",
      "CREATE TABLE IF NOT EXISTS artists(artist_id VARCHAR(18) PRIMARY KEY,name VARCHAR(100) NOT NULL,location VARCHAR(30),latitude NUMERIC(8,5),longitude NUMERIC(8,5));\n",
      "\n",
      "CREATE TABLE IF NOT EXISTS time(start_time TIMESTAMP PRIMARY KEY,hour INT,day INT,week INT,month INT,year INT,weekday INT);\n",
      "\n"
     ]
    }
   ],
   "source": [
    "for q in create_table_queries:\n",
    "    print(q+\"\\n\")"
   ]
  },
  {
   "cell_type": "code",
   "execution_count": null,
   "metadata": {},
   "outputs": [],
   "source": []
  }
 ],
 "metadata": {
  "kernelspec": {
   "display_name": "Python 3",
   "language": "python",
   "name": "python3"
  },
  "language_info": {
   "codemirror_mode": {
    "name": "ipython",
    "version": 3
   },
   "file_extension": ".py",
   "mimetype": "text/x-python",
   "name": "python",
   "nbconvert_exporter": "python",
   "pygments_lexer": "ipython3",
   "version": "3.7.6"
  }
 },
 "nbformat": 4,
 "nbformat_minor": 4
}
